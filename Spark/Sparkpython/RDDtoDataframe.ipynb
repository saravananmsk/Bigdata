{
 "cells": [
  {
   "cell_type": "code",
   "execution_count": 12,
   "metadata": {},
   "outputs": [],
   "source": [
    "#environment initilization and module import\n",
    "import os\n",
    "import sys\n",
    "os.environ[\"SPARK_HOME\"] = \"/usr/spark2.4.3\"\n",
    "os.environ[\"PYLIB\"] = os.environ[\"SPARK_HOME\"] + \"/python/lib\"\n",
    "# In below two lines, use /usr/bin/python2.7 if you want to use Python 2\n",
    "os.environ[\"PYSPARK_PYTHON\"] = \"/usr/local/anaconda/bin/python\" \n",
    "os.environ[\"PYSPARK_DRIVER_PYTHON\"] = \"/usr/local/anaconda/bin/python\"\n",
    "sys.path.insert(0, os.environ[\"PYLIB\"] +\"/py4j-0.10.7-src.zip\")\n",
    "sys.path.insert(0, os.environ[\"PYLIB\"] +\"/pyspark.zip\")"
   ]
  },
  {
   "cell_type": "code",
   "execution_count": 13,
   "metadata": {},
   "outputs": [],
   "source": [
    "from pyspark import SparkContext, SparkConf\n",
    "from pyspark.sql import SparkSession\n",
    "from pyspark.sql.types import Row\n",
    "from datetime import datetime"
   ]
  },
  {
   "cell_type": "code",
   "execution_count": 31,
   "metadata": {},
   "outputs": [],
   "source": [
    "sc = SparkContext.getOrCreate();\n",
    "sc\n",
    "spark = SparkSession(sc)"
   ]
  },
  {
   "cell_type": "code",
   "execution_count": 25,
   "metadata": {},
   "outputs": [
    {
     "data": {
      "text/plain": [
       "ParallelCollectionRDD[6] at parallelize at PythonRDD.scala:195"
      ]
     },
     "execution_count": 25,
     "metadata": {},
     "output_type": "execute_result"
    }
   ],
   "source": [
    "data=sc.parallelize([1,'test',12])\n",
    "data"
   ]
  },
  {
   "cell_type": "code",
   "execution_count": 26,
   "metadata": {},
   "outputs": [
    {
     "data": {
      "text/plain": [
       "[1, 'test', 12]"
      ]
     },
     "execution_count": 26,
     "metadata": {},
     "output_type": "execute_result"
    }
   ],
   "source": [
    "data.collect()"
   ]
  },
  {
   "cell_type": "code",
   "execution_count": 32,
   "metadata": {},
   "outputs": [],
   "source": [
    "data1=sc.parallelize([[1,'test1',13],[2,'test2',14]])"
   ]
  },
  {
   "cell_type": "code",
   "execution_count": 33,
   "metadata": {},
   "outputs": [
    {
     "data": {
      "text/plain": [
       "[[1, 'test1', 13], [2, 'test2', 14]]"
      ]
     },
     "execution_count": 33,
     "metadata": {},
     "output_type": "execute_result"
    }
   ],
   "source": [
    "data1.collect()"
   ]
  },
  {
   "cell_type": "code",
   "execution_count": 35,
   "metadata": {},
   "outputs": [
    {
     "name": "stdout",
     "output_type": "stream",
     "text": [
      "+---+-----+---+\n",
      "| _1|   _2| _3|\n",
      "+---+-----+---+\n",
      "|  1|test1| 13|\n",
      "|  2|test2| 14|\n",
      "+---+-----+---+\n",
      "\n"
     ]
    }
   ],
   "source": [
    "df1=data1.toDF()\n",
    "df1\n",
    "df1.show()"
   ]
  },
  {
   "cell_type": "code",
   "execution_count": 37,
   "metadata": {},
   "outputs": [
    {
     "data": {
      "text/plain": [
       "ParallelCollectionRDD[28] at parallelize at PythonRDD.scala:195"
      ]
     },
     "execution_count": 37,
     "metadata": {},
     "output_type": "execute_result"
    }
   ],
   "source": [
    "td=sc.parallelize([[1,'test2',12],[2,'test3',13]])\n",
    "td"
   ]
  },
  {
   "cell_type": "code",
   "execution_count": 38,
   "metadata": {},
   "outputs": [
    {
     "data": {
      "text/plain": [
       "[[1, 'test2', 12], [2, 'test3', 13]]"
      ]
     },
     "execution_count": 38,
     "metadata": {},
     "output_type": "execute_result"
    }
   ],
   "source": [
    "td.collect()"
   ]
  },
  {
   "cell_type": "code",
   "execution_count": 41,
   "metadata": {},
   "outputs": [
    {
     "name": "stdout",
     "output_type": "stream",
     "text": [
      "+---+-----+---+\n",
      "| _1|   _2| _3|\n",
      "+---+-----+---+\n",
      "|  1|test2| 12|\n",
      "|  2|test3| 13|\n",
      "+---+-----+---+\n",
      "\n"
     ]
    }
   ],
   "source": [
    "df=td.toDF()\n",
    "df\n",
    "df.show()"
   ]
  },
  {
   "cell_type": "code",
   "execution_count": 42,
   "metadata": {},
   "outputs": [],
   "source": [
    "data2=sc.parallelize([Row(index=3,Name='test3',dep=30)])"
   ]
  },
  {
   "cell_type": "code",
   "execution_count": 43,
   "metadata": {},
   "outputs": [
    {
     "data": {
      "text/plain": [
       "[Row(Name='test3', dep=30, index=3)]"
      ]
     },
     "execution_count": 43,
     "metadata": {},
     "output_type": "execute_result"
    }
   ],
   "source": [
    "data2.collect()"
   ]
  },
  {
   "cell_type": "code",
   "execution_count": 45,
   "metadata": {},
   "outputs": [
    {
     "name": "stdout",
     "output_type": "stream",
     "text": [
      "+-----+---+-----+\n",
      "| Name|dep|index|\n",
      "+-----+---+-----+\n",
      "|test3| 30|    3|\n",
      "+-----+---+-----+\n",
      "\n"
     ]
    }
   ],
   "source": [
    "df3=data2.toDF()\n",
    "df3.show()"
   ]
  },
  {
   "cell_type": "code",
   "execution_count": 46,
   "metadata": {},
   "outputs": [],
   "source": [
    "data3=sc.parallelize([Row(index=3,Name='test3',dep=30),\n",
    "                    Row(index=4,Name='test4',dep=40),\n",
    "                      Row(index=5,Name='test5',dep=50)])"
   ]
  },
  {
   "cell_type": "code",
   "execution_count": 47,
   "metadata": {},
   "outputs": [
    {
     "data": {
      "text/plain": [
       "[Row(Name='test3', dep=30, index=3),\n",
       " Row(Name='test4', dep=40, index=4),\n",
       " Row(Name='test5', dep=50, index=5)]"
      ]
     },
     "execution_count": 47,
     "metadata": {},
     "output_type": "execute_result"
    }
   ],
   "source": [
    "data3.collect()"
   ]
  },
  {
   "cell_type": "code",
   "execution_count": 48,
   "metadata": {},
   "outputs": [],
   "source": [
    "df4=data3.toDF()"
   ]
  },
  {
   "cell_type": "code",
   "execution_count": 49,
   "metadata": {},
   "outputs": [
    {
     "name": "stdout",
     "output_type": "stream",
     "text": [
      "+-----+---+-----+\n",
      "| Name|dep|index|\n",
      "+-----+---+-----+\n",
      "|test3| 30|    3|\n",
      "|test4| 40|    4|\n",
      "|test5| 50|    5|\n",
      "+-----+---+-----+\n",
      "\n"
     ]
    }
   ],
   "source": [
    "df4.show()"
   ]
  },
  {
   "cell_type": "code",
   "execution_count": 50,
   "metadata": {},
   "outputs": [],
   "source": [
    "complex_data1=sc.parallelize([Row(col_string='msk',\n",
    "                            col_double=3.14,\n",
    "                             col_integer=30)\n",
    "                             ])"
   ]
  },
  {
   "cell_type": "code",
   "execution_count": 51,
   "metadata": {},
   "outputs": [],
   "source": [
    "df_cd1=complex_data1.toDF()"
   ]
  },
  {
   "cell_type": "code",
   "execution_count": 52,
   "metadata": {},
   "outputs": [
    {
     "data": {
      "text/plain": [
       "DataFrame[col_double: double, col_integer: bigint, col_string: string]"
      ]
     },
     "execution_count": 52,
     "metadata": {},
     "output_type": "execute_result"
    }
   ],
   "source": [
    "df_cd1"
   ]
  },
  {
   "cell_type": "code",
   "execution_count": 53,
   "metadata": {},
   "outputs": [
    {
     "name": "stdout",
     "output_type": "stream",
     "text": [
      "+----------+-----------+----------+\n",
      "|col_double|col_integer|col_string|\n",
      "+----------+-----------+----------+\n",
      "|      3.14|         30|       msk|\n",
      "+----------+-----------+----------+\n",
      "\n"
     ]
    }
   ],
   "source": [
    "df_cd1.show()"
   ]
  },
  {
   "cell_type": "code",
   "execution_count": 54,
   "metadata": {},
   "outputs": [],
   "source": [
    "complex_data2=sc.parallelize([Row(col_string='msk',\n",
    "                            col_double=3.14,\n",
    "                             col_integer=30,\n",
    "                                 col_Boolean=True,\n",
    "                                 col_list=[1,2,3])\n",
    "                             ])"
   ]
  },
  {
   "cell_type": "code",
   "execution_count": 55,
   "metadata": {},
   "outputs": [
    {
     "name": "stdout",
     "output_type": "stream",
     "text": [
      "+-----------+----------+-----------+---------+----------+\n",
      "|col_Boolean|col_double|col_integer| col_list|col_string|\n",
      "+-----------+----------+-----------+---------+----------+\n",
      "|       true|      3.14|         30|[1, 2, 3]|       msk|\n",
      "+-----------+----------+-----------+---------+----------+\n",
      "\n"
     ]
    }
   ],
   "source": [
    "df_cd2=complex_data2.toDF()\n",
    "df_cd2.show()"
   ]
  },
  {
   "cell_type": "code",
   "execution_count": 56,
   "metadata": {},
   "outputs": [
    {
     "data": {
      "text/plain": [
       "DataFrame[col_Boolean: boolean, col_double: double, col_integer: bigint, col_list: array<bigint>, col_string: string]"
      ]
     },
     "execution_count": 56,
     "metadata": {},
     "output_type": "execute_result"
    }
   ],
   "source": [
    "df_cd2"
   ]
  },
  {
   "cell_type": "code",
   "execution_count": 57,
   "metadata": {},
   "outputs": [],
   "source": [
    "complex_data3=sc.parallelize([Row\n",
    "                             (\n",
    "                             col_list=[2,4,6],\n",
    "                             col_dic={\"a\":0},\n",
    "                             col_row=Row(x=5,y=7,z=9),\n",
    "                             col_time=datetime(2020,7,1,14,1,3)\n",
    "                             )\n",
    "                             ])"
   ]
  },
  {
   "cell_type": "code",
   "execution_count": 58,
   "metadata": {},
   "outputs": [],
   "source": [
    "df_cd4=complex_data3.toDF()"
   ]
  },
  {
   "cell_type": "code",
   "execution_count": 59,
   "metadata": {},
   "outputs": [
    {
     "data": {
      "text/plain": [
       "DataFrame[col_dic: map<string,bigint>, col_list: array<bigint>, col_row: struct<x:bigint,y:bigint,z:bigint>, col_time: timestamp]"
      ]
     },
     "execution_count": 59,
     "metadata": {},
     "output_type": "execute_result"
    }
   ],
   "source": [
    "df_cd4"
   ]
  },
  {
   "cell_type": "code",
   "execution_count": 60,
   "metadata": {},
   "outputs": [
    {
     "name": "stdout",
     "output_type": "stream",
     "text": [
      "+--------+---------+---------+-------------------+\n",
      "| col_dic| col_list|  col_row|           col_time|\n",
      "+--------+---------+---------+-------------------+\n",
      "|[a -> 0]|[2, 4, 6]|[5, 7, 9]|2020-07-01 14:01:03|\n",
      "+--------+---------+---------+-------------------+\n",
      "\n"
     ]
    }
   ],
   "source": [
    "df_cd4.show()"
   ]
  },
  {
   "cell_type": "code",
   "execution_count": 117,
   "metadata": {},
   "outputs": [],
   "source": [
    "complex_data4=sc.parallelize([Row\n",
    "                             (\n",
    "                            col_name='test1' ,\n",
    "                                 col_int=1,\n",
    "                                 col_double=10.5,\n",
    "                            col_list=[2,4,6],\n",
    "                             col_dic={\"a\":0},\n",
    "                             col_row=Row(x=5,y=7,z=9),\n",
    "                             col_time=datetime(2020,7,1,14,1,3)\n",
    "                             ),\n",
    "                            Row\n",
    "                             (\n",
    "                                 col_name='test2' ,\n",
    "                                  col_int=2,\n",
    "                                 col_double=11.5,\n",
    "                             col_list=[2,4,6,8,10,12],\n",
    "                             col_dic={\"a\":0,\"b\":1,\"c\":2},\n",
    "                             col_row=Row(x=11,y=13,z=15),\n",
    "                             col_time=datetime(2020,7,1,14,1,4)\n",
    "                             ),\n",
    "                              Row\n",
    "                             (\n",
    "                                 col_name='test3' ,\n",
    "                                 col_int=3,\n",
    "                                 col_double=12.5,\n",
    "                             col_list=[2,4,6,8,10,12,14,16,18],\n",
    "                             col_dic={\"a\":0,\"b\":1,\"c\":2,\"d\":3,\"e\":4,\"f\":5},\n",
    "                             col_row=Row(x=17,y=19,z=21),\n",
    "                             col_time=datetime(2020,7,1,14,1,5)\n",
    "                             )\n",
    "                             ])"
   ]
  },
  {
   "cell_type": "code",
   "execution_count": 118,
   "metadata": {},
   "outputs": [
    {
     "data": {
      "text/plain": [
       "[Row(col_dic={'a': 0}, col_double=10.5, col_int=1, col_list=[2, 4, 6], col_name='test1', col_row=Row(x=5, y=7, z=9), col_time=datetime.datetime(2020, 7, 1, 14, 1, 3)),\n",
       " Row(col_dic={'a': 0, 'b': 1, 'c': 2}, col_double=11.5, col_int=2, col_list=[2, 4, 6, 8, 10, 12], col_name='test2', col_row=Row(x=11, y=13, z=15), col_time=datetime.datetime(2020, 7, 1, 14, 1, 4)),\n",
       " Row(col_dic={'a': 0, 'b': 1, 'c': 2, 'd': 3, 'e': 4, 'f': 5}, col_double=12.5, col_int=3, col_list=[2, 4, 6, 8, 10, 12, 14, 16, 18], col_name='test3', col_row=Row(x=17, y=19, z=21), col_time=datetime.datetime(2020, 7, 1, 14, 1, 5))]"
      ]
     },
     "execution_count": 118,
     "metadata": {},
     "output_type": "execute_result"
    }
   ],
   "source": [
    "complex_data4.collect()"
   ]
  },
  {
   "cell_type": "code",
   "execution_count": 119,
   "metadata": {},
   "outputs": [],
   "source": [
    "df_cd5=complex_data4.toDF()"
   ]
  },
  {
   "cell_type": "code",
   "execution_count": 120,
   "metadata": {},
   "outputs": [
    {
     "data": {
      "text/plain": [
       "DataFrame[col_dic: map<string,bigint>, col_double: double, col_int: bigint, col_list: array<bigint>, col_name: string, col_row: struct<x:bigint,y:bigint,z:bigint>, col_time: timestamp]"
      ]
     },
     "execution_count": 120,
     "metadata": {},
     "output_type": "execute_result"
    }
   ],
   "source": [
    "df_cd5"
   ]
  },
  {
   "cell_type": "code",
   "execution_count": 121,
   "metadata": {},
   "outputs": [
    {
     "data": {
      "text/plain": [
       "Row(col_dic={'a': 0}, col_double=10.5, col_int=1, col_list=[2, 4, 6], col_name='test1', col_row=Row(x=5, y=7, z=9), col_time=datetime.datetime(2020, 7, 1, 14, 1, 3))"
      ]
     },
     "execution_count": 121,
     "metadata": {},
     "output_type": "execute_result"
    }
   ],
   "source": [
    "df_cd5.first()"
   ]
  },
  {
   "cell_type": "code",
   "execution_count": 110,
   "metadata": {},
   "outputs": [
    {
     "data": {
      "text/plain": [
       "[Row(col_dic={'a': 0}, col_int=1, col_list=[2, 4, 6], col_name='test1', col_row=Row(x=5, y=7, z=9), col_time=datetime.datetime(2020, 7, 1, 14, 1, 3)),\n",
       " Row(col_dic={'a': 0, 'b': 1, 'c': 2}, col_int=2, col_list=[2, 4, 6, 8, 10, 12], col_name='test2', col_row=Row(x=11, y=13, z=15), col_time=datetime.datetime(2020, 7, 1, 14, 1, 4))]"
      ]
     },
     "execution_count": 110,
     "metadata": {},
     "output_type": "execute_result"
    }
   ],
   "source": [
    "df_cd5.take(2)"
   ]
  },
  {
   "cell_type": "code",
   "execution_count": 112,
   "metadata": {},
   "outputs": [
    {
     "data": {
      "text/plain": [
       "1"
      ]
     },
     "execution_count": 112,
     "metadata": {},
     "output_type": "execute_result"
    }
   ],
   "source": [
    "df_cd5.collect()[0][1]"
   ]
  },
  {
   "cell_type": "code",
   "execution_count": 113,
   "metadata": {},
   "outputs": [],
   "source": [
    "col_list=df_cd5.collect()[0][1]"
   ]
  },
  {
   "cell_type": "code",
   "execution_count": 98,
   "metadata": {},
   "outputs": [],
   "source": [
    "col_list.append(100)"
   ]
  },
  {
   "cell_type": "code",
   "execution_count": 100,
   "metadata": {},
   "outputs": [
    {
     "data": {
      "text/plain": [
       "[2, 4, 6, 100]"
      ]
     },
     "execution_count": 100,
     "metadata": {},
     "output_type": "execute_result"
    }
   ],
   "source": [
    "col_list"
   ]
  },
  {
   "cell_type": "code",
   "execution_count": 114,
   "metadata": {},
   "outputs": [
    {
     "name": "stdout",
     "output_type": "stream",
     "text": [
      "+--------------------+-------+--------------------+--------+------------+-------------------+\n",
      "|             col_dic|col_int|            col_list|col_name|     col_row|           col_time|\n",
      "+--------------------+-------+--------------------+--------+------------+-------------------+\n",
      "|            [a -> 0]|      1|           [2, 4, 6]|   test1|   [5, 7, 9]|2020-07-01 14:01:03|\n",
      "|[a -> 0, b -> 1, ...|      2|[2, 4, 6, 8, 10, 12]|   test2|[11, 13, 15]|2020-07-01 14:01:04|\n",
      "|[a -> 0, b -> 1, ...|      3|[2, 4, 6, 8, 10, ...|   test3|[17, 19, 21]|2020-07-01 14:01:05|\n",
      "+--------------------+-------+--------------------+--------+------------+-------------------+\n",
      "\n"
     ]
    }
   ],
   "source": [
    "df_cd5.show()"
   ]
  },
  {
   "cell_type": "code",
   "execution_count": 102,
   "metadata": {},
   "outputs": [
    {
     "data": {
      "text/plain": [
       "[({'a': 0}, [2, 4, 6]),\n",
       " ({'a': 0, 'b': 1, 'c': 2}, [2, 4, 6, 8, 10, 12]),\n",
       " ({'a': 0, 'b': 1, 'c': 2, 'd': 3, 'e': 4, 'f': 5},\n",
       "  [2, 4, 6, 8, 10, 12, 14, 16, 18])]"
      ]
     },
     "execution_count": 102,
     "metadata": {},
     "output_type": "execute_result"
    }
   ],
   "source": [
    "df_cd5.rdd\\\n",
    ".map(lambda x: (x.col_dic,x.col_list))\\\n",
    ".collect()"
   ]
  },
  {
   "cell_type": "code",
   "execution_count": 115,
   "metadata": {},
   "outputs": [
    {
     "name": "stdout",
     "output_type": "stream",
     "text": [
      "+--------------------+--------------------+\n",
      "|             col_dic|            col_list|\n",
      "+--------------------+--------------------+\n",
      "|            [a -> 0]|           [2, 4, 6]|\n",
      "|[a -> 0, b -> 1, ...|[2, 4, 6, 8, 10, 12]|\n",
      "|[a -> 0, b -> 1, ...|[2, 4, 6, 8, 10, ...|\n",
      "+--------------------+--------------------+\n",
      "\n"
     ]
    }
   ],
   "source": [
    "df_cd5.select(\n",
    "    'col_dic',\n",
    "    'col_list'\n",
    ").show()"
   ]
  },
  {
   "cell_type": "code",
   "execution_count": 116,
   "metadata": {},
   "outputs": [
    {
     "data": {
      "text/plain": [
       "['append test1', 'append test2', 'append test3']"
      ]
     },
     "execution_count": 116,
     "metadata": {},
     "output_type": "execute_result"
    }
   ],
   "source": [
    "df_cd5.rdd\\\n",
    ".map(lambda x: ('append '+ x.col_name))\\\n",
    ".collect()"
   ]
  },
  {
   "cell_type": "code",
   "execution_count": 123,
   "metadata": {},
   "outputs": [
    {
     "name": "stdout",
     "output_type": "stream",
     "text": [
      "+-------+----------+-------+\n",
      "|col_int|col_double|col_sum|\n",
      "+-------+----------+-------+\n",
      "|      1|      10.5|   11.5|\n",
      "|      2|      11.5|   13.5|\n",
      "|      3|      12.5|   15.5|\n",
      "+-------+----------+-------+\n",
      "\n"
     ]
    }
   ],
   "source": [
    "df_cd5.select(\n",
    "'col_int',\n",
    "    'col_double'\n",
    ")\\\n",
    ".withColumn(\n",
    "    'col_sum',\n",
    "        df_cd5.col_int + df_cd5.col_double\n",
    "    )\\\n",
    ".show()"
   ]
  },
  {
   "cell_type": "code",
   "execution_count": 127,
   "metadata": {},
   "outputs": [
    {
     "name": "stdout",
     "output_type": "stream",
     "text": [
      "+--------------------+----------+-----------+--------------------+--------+------------+-------------------+\n",
      "|             col_dic|col_double|col_integer|            col_list|col_name|     col_row|           col_time|\n",
      "+--------------------+----------+-----------+--------------------+--------+------------+-------------------+\n",
      "|            [a -> 0]|      10.5|          1|           [2, 4, 6]|   test1|   [5, 7, 9]|2020-07-01 14:01:03|\n",
      "|[a -> 0, b -> 1, ...|      11.5|          2|[2, 4, 6, 8, 10, 12]|   test2|[11, 13, 15]|2020-07-01 14:01:04|\n",
      "|[a -> 0, b -> 1, ...|      12.5|          3|[2, 4, 6, 8, 10, ...|   test3|[17, 19, 21]|2020-07-01 14:01:05|\n",
      "+--------------------+----------+-----------+--------------------+--------+------------+-------------------+\n",
      "\n"
     ]
    }
   ],
   "source": [
    "df_cd5.withColumnRenamed('col_int','col_integer').show()"
   ]
  },
  {
   "cell_type": "code",
   "execution_count": 130,
   "metadata": {},
   "outputs": [
    {
     "name": "stdout",
     "output_type": "stream",
     "text": [
      "+-----------+\n",
      "|col_integer|\n",
      "+-----------+\n",
      "|          1|\n",
      "|          2|\n",
      "|          3|\n",
      "+-----------+\n",
      "\n"
     ]
    }
   ],
   "source": [
    "df_cd5.select(df_cd5.col_int.alias('col_integer')).show()"
   ]
  },
  {
   "cell_type": "code",
   "execution_count": 131,
   "metadata": {},
   "outputs": [],
   "source": [
    "import pandas"
   ]
  },
  {
   "cell_type": "code",
   "execution_count": 133,
   "metadata": {},
   "outputs": [
    {
     "data": {
      "text/html": [
       "<div>\n",
       "<style scoped>\n",
       "    .dataframe tbody tr th:only-of-type {\n",
       "        vertical-align: middle;\n",
       "    }\n",
       "\n",
       "    .dataframe tbody tr th {\n",
       "        vertical-align: top;\n",
       "    }\n",
       "\n",
       "    .dataframe thead th {\n",
       "        text-align: right;\n",
       "    }\n",
       "</style>\n",
       "<table border=\"1\" class=\"dataframe\">\n",
       "  <thead>\n",
       "    <tr style=\"text-align: right;\">\n",
       "      <th></th>\n",
       "      <th>col_dic</th>\n",
       "      <th>col_double</th>\n",
       "      <th>col_int</th>\n",
       "      <th>col_list</th>\n",
       "      <th>col_name</th>\n",
       "      <th>col_row</th>\n",
       "      <th>col_time</th>\n",
       "    </tr>\n",
       "  </thead>\n",
       "  <tbody>\n",
       "    <tr>\n",
       "      <td>0</td>\n",
       "      <td>{'a': 0}</td>\n",
       "      <td>10.5</td>\n",
       "      <td>1</td>\n",
       "      <td>[2, 4, 6]</td>\n",
       "      <td>test1</td>\n",
       "      <td>(5, 7, 9)</td>\n",
       "      <td>2020-07-01 14:01:03</td>\n",
       "    </tr>\n",
       "    <tr>\n",
       "      <td>1</td>\n",
       "      <td>{'a': 0, 'b': 1, 'c': 2}</td>\n",
       "      <td>11.5</td>\n",
       "      <td>2</td>\n",
       "      <td>[2, 4, 6, 8, 10, 12]</td>\n",
       "      <td>test2</td>\n",
       "      <td>(11, 13, 15)</td>\n",
       "      <td>2020-07-01 14:01:04</td>\n",
       "    </tr>\n",
       "    <tr>\n",
       "      <td>2</td>\n",
       "      <td>{'a': 0, 'b': 1, 'c': 2, 'd': 3, 'e': 4, 'f': 5}</td>\n",
       "      <td>12.5</td>\n",
       "      <td>3</td>\n",
       "      <td>[2, 4, 6, 8, 10, 12, 14, 16, 18]</td>\n",
       "      <td>test3</td>\n",
       "      <td>(17, 19, 21)</td>\n",
       "      <td>2020-07-01 14:01:05</td>\n",
       "    </tr>\n",
       "  </tbody>\n",
       "</table>\n",
       "</div>"
      ],
      "text/plain": [
       "                                            col_dic  col_double  col_int  \\\n",
       "0                                          {'a': 0}        10.5        1   \n",
       "1                          {'a': 0, 'b': 1, 'c': 2}        11.5        2   \n",
       "2  {'a': 0, 'b': 1, 'c': 2, 'd': 3, 'e': 4, 'f': 5}        12.5        3   \n",
       "\n",
       "                           col_list col_name       col_row            col_time  \n",
       "0                         [2, 4, 6]    test1     (5, 7, 9) 2020-07-01 14:01:03  \n",
       "1              [2, 4, 6, 8, 10, 12]    test2  (11, 13, 15) 2020-07-01 14:01:04  \n",
       "2  [2, 4, 6, 8, 10, 12, 14, 16, 18]    test3  (17, 19, 21) 2020-07-01 14:01:05  "
      ]
     },
     "execution_count": 133,
     "metadata": {},
     "output_type": "execute_result"
    }
   ],
   "source": [
    "pdf=df_cd5.toPandas()\n",
    "pdf"
   ]
  },
  {
   "cell_type": "code",
   "execution_count": 134,
   "metadata": {},
   "outputs": [
    {
     "data": {
      "text/plain": [
       "[Row(col_dic={'a': 0}, col_double=10.5, col_int=1, col_list=[2, 4, 6], col_name='test1', col_row=Row(x=5, y=7, z=9), col_time=datetime.datetime(2020, 7, 1, 14, 1, 3)),\n",
       " Row(col_dic={'a': 0, 'b': 1, 'c': 2}, col_double=11.5, col_int=2, col_list=[2, 4, 6, 8, 10, 12], col_name='test2', col_row=Row(x=11, y=13, z=15), col_time=datetime.datetime(2020, 7, 1, 14, 1, 4)),\n",
       " Row(col_dic={'a': 0, 'b': 1, 'c': 2, 'd': 3, 'e': 4, 'f': 5}, col_double=12.5, col_int=3, col_list=[2, 4, 6, 8, 10, 12, 14, 16, 18], col_name='test3', col_row=Row(x=17, y=19, z=21), col_time=datetime.datetime(2020, 7, 1, 14, 1, 5))]"
      ]
     },
     "execution_count": 134,
     "metadata": {},
     "output_type": "execute_result"
    }
   ],
   "source": [
    "df_cd5.collect()"
   ]
  },
  {
   "cell_type": "code",
   "execution_count": 136,
   "metadata": {},
   "outputs": [
    {
     "name": "stdout",
     "output_type": "stream",
     "text": [
      "+--------------------+----------+-------+--------------------+--------+------------+-------------------+\n",
      "|             col_dic|col_double|col_int|            col_list|col_name|     col_row|           col_time|\n",
      "+--------------------+----------+-------+--------------------+--------+------------+-------------------+\n",
      "|            [a -> 0]|      10.5|      1|           [2, 4, 6]|   test1|   [5, 7, 9]|2020-07-01 14:01:03|\n",
      "|[a -> 0, b -> 1, ...|      11.5|      2|[2, 4, 6, 8, 10, 12]|   test2|[11, 13, 15]|2020-07-01 14:01:04|\n",
      "|[a -> 0, b -> 1, ...|      12.5|      3|[2, 4, 6, 8, 10, ...|   test3|[17, 19, 21]|2020-07-01 14:01:05|\n",
      "+--------------------+----------+-------+--------------------+--------+------------+-------------------+\n",
      "\n"
     ]
    }
   ],
   "source": [
    "df_spark=sqlcontext.createDataFrame(pdf).show()"
   ]
  },
  {
   "cell_type": "code",
   "execution_count": null,
   "metadata": {},
   "outputs": [],
   "source": []
  },
  {
   "cell_type": "code",
   "execution_count": 66,
   "metadata": {},
   "outputs": [],
   "source": [
    "from pyspark import SparkContext\n",
    "from pyspark.sql import SQLContext\n",
    "sqlcontext=SQLContext(sc)"
   ]
  },
  {
   "cell_type": "code",
   "execution_count": 67,
   "metadata": {},
   "outputs": [
    {
     "data": {
      "text/plain": [
       "DataFrame[id: bigint]"
      ]
     },
     "execution_count": 67,
     "metadata": {},
     "output_type": "execute_result"
    }
   ],
   "source": [
    "df_sc1=sqlcontext.range(5)\n",
    "df_sc1"
   ]
  },
  {
   "cell_type": "code",
   "execution_count": 68,
   "metadata": {},
   "outputs": [
    {
     "name": "stdout",
     "output_type": "stream",
     "text": [
      "+---+\n",
      "| id|\n",
      "+---+\n",
      "|  0|\n",
      "|  1|\n",
      "|  2|\n",
      "|  3|\n",
      "|  4|\n",
      "+---+\n",
      "\n"
     ]
    }
   ],
   "source": [
    "df_sc1.show()"
   ]
  },
  {
   "cell_type": "code",
   "execution_count": 69,
   "metadata": {},
   "outputs": [],
   "source": [
    "data1=[('test1',10),\n",
    "      ('test2',20),\n",
    "      ('test3',30)]"
   ]
  },
  {
   "cell_type": "code",
   "execution_count": 70,
   "metadata": {},
   "outputs": [
    {
     "data": {
      "text/plain": [
       "[('test1', 10), ('test2', 20), ('test3', 30)]"
      ]
     },
     "execution_count": 70,
     "metadata": {},
     "output_type": "execute_result"
    }
   ],
   "source": [
    "data1"
   ]
  },
  {
   "cell_type": "code",
   "execution_count": 71,
   "metadata": {},
   "outputs": [
    {
     "name": "stdout",
     "output_type": "stream",
     "text": [
      "+-----+---+\n",
      "|   _1| _2|\n",
      "+-----+---+\n",
      "|test1| 10|\n",
      "|test2| 20|\n",
      "|test3| 30|\n",
      "+-----+---+\n",
      "\n"
     ]
    }
   ],
   "source": [
    "sqlcontext.createDataFrame(data1).show()"
   ]
  },
  {
   "cell_type": "code",
   "execution_count": 72,
   "metadata": {},
   "outputs": [
    {
     "name": "stdout",
     "output_type": "stream",
     "text": [
      "+-----+------+\n",
      "| Name|Amount|\n",
      "+-----+------+\n",
      "|test1|    10|\n",
      "|test2|    20|\n",
      "|test3|    30|\n",
      "+-----+------+\n",
      "\n"
     ]
    }
   ],
   "source": [
    "sqlcontext.createDataFrame(data1,['Name','Amount']).show()"
   ]
  },
  {
   "cell_type": "code",
   "execution_count": 73,
   "metadata": {},
   "outputs": [],
   "source": [
    "complex_data1=([               (\n",
    "                                1.0,\n",
    "                                12,\n",
    "                                'Test1',\n",
    "                             [2,4,6],\n",
    "                            {\"a\":0},\n",
    "                             Row(x=5,y=7,z=9),\n",
    "                             datetime(2020,7,1,14,1,3)\n",
    "                             ),\n",
    "                            \n",
    "                             (\n",
    "                                   2.0,\n",
    "                                14,\n",
    "                                'Test2',\n",
    "                             [2,4,6,8,10,12],\n",
    "                            {\"a\":0,\"b\":1,\"c\":2},\n",
    "                             Row(x=11,y=13,z=15),\n",
    "                             datetime(2020,7,1,14,1,4)\n",
    "                             ),\n",
    "                             \n",
    "                             (\n",
    "                                  3.0,\n",
    "                                16,\n",
    "                                'Test3',\n",
    "                              [2,4,6,8,10,12,14,16,18],\n",
    "                             {\"a\":0,\"b\":1,\"c\":2,\"d\":3,\"e\":4,\"f\":5},\n",
    "                              Row(x=17,y=19,z=21),\n",
    "                            datetime(2020,7,1,14,1,5)\n",
    "                             )\n",
    "                             ])"
   ]
  },
  {
   "cell_type": "code",
   "execution_count": 74,
   "metadata": {},
   "outputs": [
    {
     "data": {
      "text/plain": [
       "[(1.0,\n",
       "  12,\n",
       "  'Test1',\n",
       "  [2, 4, 6],\n",
       "  {'a': 0},\n",
       "  Row(x=5, y=7, z=9),\n",
       "  datetime.datetime(2020, 7, 1, 14, 1, 3)),\n",
       " (2.0,\n",
       "  14,\n",
       "  'Test2',\n",
       "  [2, 4, 6, 8, 10, 12],\n",
       "  {'a': 0, 'b': 1, 'c': 2},\n",
       "  Row(x=11, y=13, z=15),\n",
       "  datetime.datetime(2020, 7, 1, 14, 1, 4)),\n",
       " (3.0,\n",
       "  16,\n",
       "  'Test3',\n",
       "  [2, 4, 6, 8, 10, 12, 14, 16, 18],\n",
       "  {'a': 0, 'b': 1, 'c': 2, 'd': 3, 'e': 4, 'f': 5},\n",
       "  Row(x=17, y=19, z=21),\n",
       "  datetime.datetime(2020, 7, 1, 14, 1, 5))]"
      ]
     },
     "execution_count": 74,
     "metadata": {},
     "output_type": "execute_result"
    }
   ],
   "source": [
    "complex_data1"
   ]
  },
  {
   "cell_type": "code",
   "execution_count": 75,
   "metadata": {},
   "outputs": [
    {
     "name": "stdout",
     "output_type": "stream",
     "text": [
      "+---+---+-----+--------------------+--------------------+------------+-------------------+\n",
      "| _1| _2|   _3|                  _4|                  _5|          _6|                 _7|\n",
      "+---+---+-----+--------------------+--------------------+------------+-------------------+\n",
      "|1.0| 12|Test1|           [2, 4, 6]|            [a -> 0]|   [5, 7, 9]|2020-07-01 14:01:03|\n",
      "|2.0| 14|Test2|[2, 4, 6, 8, 10, 12]|[a -> 0, b -> 1, ...|[11, 13, 15]|2020-07-01 14:01:04|\n",
      "|3.0| 16|Test3|[2, 4, 6, 8, 10, ...|[a -> 0, b -> 1, ...|[17, 19, 21]|2020-07-01 14:01:05|\n",
      "+---+---+-----+--------------------+--------------------+------------+-------------------+\n",
      "\n"
     ]
    }
   ],
   "source": [
    "sqlcontext.createDataFrame(complex_data1).show()"
   ]
  },
  {
   "cell_type": "code",
   "execution_count": 76,
   "metadata": {},
   "outputs": [
    {
     "name": "stdout",
     "output_type": "stream",
     "text": [
      "+---+-----+-----+--------------------+--------------------+------------+-------------------+\n",
      "|sno|test1| Name|                list|                 Dic|         Row|               Date|\n",
      "+---+-----+-----+--------------------+--------------------+------------+-------------------+\n",
      "|1.0|   12|Test1|           [2, 4, 6]|            [a -> 0]|   [5, 7, 9]|2020-07-01 14:01:03|\n",
      "|2.0|   14|Test2|[2, 4, 6, 8, 10, 12]|[a -> 0, b -> 1, ...|[11, 13, 15]|2020-07-01 14:01:04|\n",
      "|3.0|   16|Test3|[2, 4, 6, 8, 10, ...|[a -> 0, b -> 1, ...|[17, 19, 21]|2020-07-01 14:01:05|\n",
      "+---+-----+-----+--------------------+--------------------+------------+-------------------+\n",
      "\n"
     ]
    }
   ],
   "source": [
    "sqlcontext.createDataFrame(complex_data1,['sno','test1','Name','list','Dic','Row','Date']).show()"
   ]
  },
  {
   "cell_type": "code",
   "execution_count": 77,
   "metadata": {},
   "outputs": [],
   "source": [
    "data=sc.parallelize([\n",
    "    Row(1,'Test1',20),\n",
    "    Row(2,'Test2',30),\n",
    "    Row(3,'Test3',40)\n",
    "]\n",
    ")"
   ]
  },
  {
   "cell_type": "code",
   "execution_count": 78,
   "metadata": {},
   "outputs": [
    {
     "name": "stdout",
     "output_type": "stream",
     "text": [
      "+---+-----+---+\n",
      "|sno| name|amt|\n",
      "+---+-----+---+\n",
      "|  1|Test1| 20|\n",
      "|  2|Test2| 30|\n",
      "|  3|Test3| 40|\n",
      "+---+-----+---+\n",
      "\n"
     ]
    }
   ],
   "source": [
    "data.toDF(['sno','name','amt']).show()"
   ]
  },
  {
   "cell_type": "code",
   "execution_count": 80,
   "metadata": {},
   "outputs": [
    {
     "name": "stdout",
     "output_type": "stream",
     "text": [
      "+---+-----+---+\n",
      "| _1|   _2| _3|\n",
      "+---+-----+---+\n",
      "|  1|Test1| 20|\n",
      "|  2|Test2| 30|\n",
      "|  3|Test3| 40|\n",
      "+---+-----+---+\n",
      "\n"
     ]
    }
   ],
   "source": [
    "data.toDF().show()"
   ]
  },
  {
   "cell_type": "code",
   "execution_count": 81,
   "metadata": {},
   "outputs": [],
   "source": [
    "column_names=Row('sno','name','amt')"
   ]
  },
  {
   "cell_type": "code",
   "execution_count": 82,
   "metadata": {},
   "outputs": [
    {
     "data": {
      "text/plain": [
       "<Row(sno, name, amt)>"
      ]
     },
     "execution_count": 82,
     "metadata": {},
     "output_type": "execute_result"
    }
   ],
   "source": [
    "column_names"
   ]
  },
  {
   "cell_type": "code",
   "execution_count": 88,
   "metadata": {},
   "outputs": [
    {
     "data": {
      "text/plain": [
       "[Row(sno=1, name='Test1', amt=20),\n",
       " Row(sno=2, name='Test2', amt=30),\n",
       " Row(sno=3, name='Test3', amt=40)]"
      ]
     },
     "execution_count": 88,
     "metadata": {},
     "output_type": "execute_result"
    }
   ],
   "source": [
    "cars=data.map(lambda r: column_names(*r))\n",
    "cars\n",
    "cars.collect()"
   ]
  },
  {
   "cell_type": "code",
   "execution_count": 90,
   "metadata": {},
   "outputs": [
    {
     "data": {
      "text/plain": [
       "DataFrame[sno: bigint, name: string, amt: bigint]"
      ]
     },
     "execution_count": 90,
     "metadata": {},
     "output_type": "execute_result"
    }
   ],
   "source": [
    "obj1_df=sqlcontext.createDataFrame(cars)\n",
    "obj1_df"
   ]
  },
  {
   "cell_type": "code",
   "execution_count": 91,
   "metadata": {},
   "outputs": [
    {
     "name": "stdout",
     "output_type": "stream",
     "text": [
      "+---+-----+---+\n",
      "|sno| name|amt|\n",
      "+---+-----+---+\n",
      "|  1|Test1| 20|\n",
      "|  2|Test2| 30|\n",
      "|  3|Test3| 40|\n",
      "+---+-----+---+\n",
      "\n"
     ]
    }
   ],
   "source": [
    "obj1_df.show()"
   ]
  },
  {
   "cell_type": "code",
   "execution_count": null,
   "metadata": {},
   "outputs": [],
   "source": []
  }
 ],
 "metadata": {
  "kernelspec": {
   "display_name": "Python 3",
   "language": "python",
   "name": "python3"
  },
  "language_info": {
   "codemirror_mode": {
    "name": "ipython",
    "version": 3
   },
   "file_extension": ".py",
   "mimetype": "text/x-python",
   "name": "python",
   "nbconvert_exporter": "python",
   "pygments_lexer": "ipython3",
   "version": "3.6.8"
  },
  "toc": {
   "base_numbering": 1,
   "nav_menu": {},
   "number_sections": true,
   "sideBar": true,
   "skip_h1_title": false,
   "title_cell": "Table of Contents",
   "title_sidebar": "Contents",
   "toc_cell": false,
   "toc_position": {},
   "toc_section_display": true,
   "toc_window_display": false
  }
 },
 "nbformat": 4,
 "nbformat_minor": 2
}
