{
 "cells": [
  {
   "cell_type": "code",
   "execution_count": 4,
   "metadata": {},
   "outputs": [
    {
     "name": "stdout",
     "output_type": "stream",
     "text": [
      "Enter a number: 3\n",
      "[1] \"3 is a prime number\"\n"
     ]
    }
   ],
   "source": [
    "# Program to check if the input number is prime or not\n",
    "# take input from the user\n",
    "num = as.integer(readline(prompt=\"Enter a number: \"))\n",
    "flag = 0\n",
    "# prime numbers are greater than 1\n",
    "if(num > 1) {\n",
    "# check for factors\n",
    "flag = 1\n",
    "for(i in 2:(num-1)) {\n",
    "if ((num %% i) == 0) {\n",
    "flag = 0\n",
    "break\n",
    "}\n",
    "}\n",
    "} \n",
    "if(num == 2)    flag = 1\n",
    "if(flag == 1) {\n",
    "print(paste(num,\"is a prime number\"))\n",
    "} else {\n",
    "print(paste(num,\"is not a prime number\"))\n",
    "}"
   ]
  },
  {
   "cell_type": "code",
   "execution_count": null,
   "metadata": {},
   "outputs": [],
   "source": []
  },
  {
   "cell_type": "code",
   "execution_count": null,
   "metadata": {},
   "outputs": [],
   "source": []
  }
 ],
 "metadata": {
  "kernelspec": {
   "display_name": "R",
   "language": "R",
   "name": "ir"
  },
  "language_info": {
   "codemirror_mode": "r",
   "file_extension": ".r",
   "mimetype": "text/x-r-source",
   "name": "R",
   "pygments_lexer": "r",
   "version": "3.6.0"
  },
  "toc": {
   "base_numbering": 1,
   "nav_menu": {},
   "number_sections": true,
   "sideBar": true,
   "skip_h1_title": false,
   "title_cell": "Table of Contents",
   "title_sidebar": "Contents",
   "toc_cell": false,
   "toc_position": {},
   "toc_section_display": true,
   "toc_window_display": false
  }
 },
 "nbformat": 4,
 "nbformat_minor": 2
}
