{
  "nbformat": 4,
  "nbformat_minor": 0,
  "metadata": {
    "colab": {
      "name": "gocob1.ipynb",
      "provenance": [],
      "authorship_tag": "ABX9TyOEJJUpJWvcqf47ovVrSKnI",
      "include_colab_link": true
    },
    "kernelspec": {
      "name": "python3",
      "display_name": "Python 3"
    },
    "language_info": {
      "name": "python"
    }
  },
  "cells": [
    {
      "cell_type": "markdown",
      "metadata": {
        "id": "view-in-github",
        "colab_type": "text"
      },
      "source": [
        "<a href=\"https://colab.research.google.com/github/saravananmsk/Bigdata/blob/master/Python/gocob1.ipynb\" target=\"_parent\"><img src=\"https://colab.research.google.com/assets/colab-badge.svg\" alt=\"Open In Colab\"/></a>"
      ]
    },
    {
      "cell_type": "code",
      "metadata": {
        "colab": {
          "base_uri": "https://localhost:8080/"
        },
        "id": "av-T_9xNZ35u",
        "outputId": "b9548bf2-9604-403d-c776-aa3776580a5b"
      },
      "source": [
        "print('test file')"
      ],
      "execution_count": 1,
      "outputs": [
        {
          "output_type": "stream",
          "text": [
            "test file\n"
          ],
          "name": "stdout"
        }
      ]
    }
  ]
}