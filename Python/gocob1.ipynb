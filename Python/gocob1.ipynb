{
  "nbformat": 4,
  "nbformat_minor": 0,
  "metadata": {
    "colab": {
      "name": "gocob1.ipynb",
      "provenance": [],
      "authorship_tag": "ABX9TyOldbm4UQawCfnw3D+OImTq",
      "include_colab_link": true
    },
    "kernelspec": {
      "name": "python3",
      "display_name": "Python 3"
    },
    "language_info": {
      "name": "python"
    }
  },
  "cells": [
    {
      "cell_type": "markdown",
      "metadata": {
        "id": "view-in-github",
        "colab_type": "text"
      },
      "source": [
        "<a href=\"https://colab.research.google.com/github/saravananmsk/Bigdata/blob/master/Python/gocob1.ipynb\" target=\"_parent\"><img src=\"https://colab.research.google.com/assets/colab-badge.svg\" alt=\"Open In Colab\"/></a>"
      ]
    },
    {
      "cell_type": "code",
      "metadata": {
        "colab": {
          "base_uri": "https://localhost:8080/"
        },
        "id": "av-T_9xNZ35u",
        "outputId": "9ef3e15e-ef4f-42a9-9bec-e89a7df324a2"
      },
      "source": [
        "print('test file')"
      ],
      "execution_count": 1,
      "outputs": [
        {
          "output_type": "stream",
          "text": [
            "test file\n"
          ],
          "name": "stdout"
        }
      ]
    },
    {
      "cell_type": "code",
      "metadata": {
        "id": "SLbKM1j_cDGc"
      },
      "source": [
        "import pandas as pd\n",
        "\n",
        "df = pd.read_excel('test.xlsx')\n",
        "\n",
        "print(df.to_string()) "
      ],
      "execution_count": null,
      "outputs": []
    }
  ]
}