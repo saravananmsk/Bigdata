{
 "cells": [
  {
   "cell_type": "code",
   "execution_count": 3,
   "metadata": {},
   "outputs": [
    {
     "name": "stdout",
     "output_type": "stream",
     "text": [
      "please enter the number5\n",
      "Entered number is odd\n"
     ]
    }
   ],
   "source": [
    "#Even odd program in python\n",
    "a=int(input(\"please enter the number\"));\n",
    "if(a%2==0):\n",
    "      print(\"Entered number is even\")\n",
    "else:\n",
    "      print(\"Entered number is odd\")"
   ]
  },
  {
   "cell_type": "code",
   "execution_count": null,
   "metadata": {},
   "outputs": [],
   "source": [
    "# This is simple calculator program using python\n",
    "def add(x,y):\n",
    "    return x + y\n",
    "\n",
    "def sub(x,y):\n",
    "\treturn x-y\n",
    "\n",
    "def mul(x,y):\n",
    "\treturn x*y\n",
    "\n",
    "def div(x,y):\n",
    "\treturn x/y\n",
    "\n",
    "print (\"Enter your choice: \")\n",
    "print (\"1 for Add numbers\")\n",
    "print (\"2 for Subtract numbers\")\n",
    "print (\"3 for Multiply numbers\")\n",
    "print (\"4 for Divide numbers\")\n",
    "\n",
    "c = int(input(\"Enter your choice: \"))\n",
    "\n",
    "a = int(input(\"Enter the first number \"))\n",
    "\n",
    "b = int(input(\"Enter the second number \"))\n",
    "\n",
    "print(\"the value of c is\",c)\n",
    "\n",
    "if c == 1:\n",
    "\t\n",
    "\tprint(a ,\"+\", b ,\"=\",add(a,b))\n",
    "elif c == 2:\n",
    "\t\n",
    "\tprint(a ,\"-\", b ,\"=\",sub(a,b))\n",
    "elif c == 3:\n",
    "\t\n",
    "\tprint(a ,\"*\", b ,\"=\",mul(a,b))\n",
    "elif c == 4:\n",
    "\t\n",
    "\tprint(a ,\"/\", b ,\"=\",div(a,b))\n",
    "\t\n",
    "else:\n",
    "   print(\"Invalid input\")\n"
   ]
  },
  {
   "cell_type": "code",
   "execution_count": null,
   "metadata": {},
   "outputs": [],
   "source": []
  }
 ],
 "metadata": {
  "kernelspec": {
   "display_name": "Python 3",
   "language": "python",
   "name": "python3"
  },
  "language_info": {
   "codemirror_mode": {
    "name": "ipython",
    "version": 3
   },
   "file_extension": ".py",
   "mimetype": "text/x-python",
   "name": "python",
   "nbconvert_exporter": "python",
   "pygments_lexer": "ipython3",
   "version": "3.6.8"
  },
  "toc": {
   "base_numbering": 1,
   "nav_menu": {},
   "number_sections": true,
   "sideBar": true,
   "skip_h1_title": false,
   "title_cell": "Table of Contents",
   "title_sidebar": "Contents",
   "toc_cell": false,
   "toc_position": {},
   "toc_section_display": true,
   "toc_window_display": true
  }
 },
 "nbformat": 4,
 "nbformat_minor": 2
}
